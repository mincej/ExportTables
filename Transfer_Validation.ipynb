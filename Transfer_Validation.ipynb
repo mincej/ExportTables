{
 "cells": [
  {
   "cell_type": "markdown",
   "metadata": {},
   "source": [
    "## Transfer Validation\n",
    "\n",
    "This notebook will be used to validate the transfer of the **Javascript Google Earth Engine API** code to the new **Python API version** and subsequent checking. This is necessary due to the need of IPython and it's synchronicity with Jupyter to visualize the maps generated in Google Earth Engine. This is needed to validate every step and function that is added. "
   ]
  },
  {
   "cell_type": "markdown",
   "metadata": {},
   "source": [
    "First, let's load in the needed libraries and initialize our Google Earth Engine session: "
   ]
  },
  {
   "cell_type": "code",
   "execution_count": 1,
   "metadata": {},
   "outputs": [],
   "source": [
    "import ee\n",
    "import folium\n",
    "import IPython.display as ip\n",
    "import geemap \n",
    "import GetImageCollection as ic\n",
    "import MergeChunk as mc\n",
    "import Subroutines as sub\n",
    "import CloudCodes as cc\n",
    "ee.Initialize()"
   ]
  },
  {
   "cell_type": "markdown",
   "metadata": {},
   "source": [
    "Now, lets load in our assets and get the physical properties of it for usage in our map. "
   ]
  },
  {
   "cell_type": "code",
   "execution_count": 2,
   "metadata": {},
   "outputs": [],
   "source": [
    "nhd = ee.FeatureCollection('users/mincej20/NHD_Filtered_50')\n",
    "feat = ee.Feature(nhd.filterMetadata(\"GNIS_ID\", \"equals\", \"00970163\").first())\n",
    "\n",
    "centroid = ee.Geometry(feat.geometry().centroid())\n",
    "long = centroid.coordinates().get(0).getInfo()\n",
    "lat = centroid.coordinates().get(1).getInfo()"
   ]
  },
  {
   "cell_type": "markdown",
   "metadata": {},
   "source": [
    "We have to make sure that it works, so we'll verify the feature and centroid: "
   ]
  },
  {
   "cell_type": "code",
   "execution_count": 3,
   "metadata": {},
   "outputs": [
    {
     "name": "stdout",
     "output_type": "stream",
     "text": [
      "00970163\n",
      "Lake George\n",
      "{'type': 'Point', 'coordinates': [-73.57973412405578, 43.601748078270504]}\n"
     ]
    }
   ],
   "source": [
    "print(feat.get(\"GNIS_ID\").getInfo())\n",
    "print(feat.get(\"GNIS_Nm\").getInfo())\n",
    "print(centroid.getInfo())"
   ]
  },
  {
   "cell_type": "markdown",
   "metadata": {},
   "source": [
    "Looks like our **GEE** is properly connected and we can access our assets, etc. \n",
    "Now, let's see about testing the GetImageCollection scripts."
   ]
  },
  {
   "cell_type": "code",
   "execution_count": 4,
   "metadata": {},
   "outputs": [
    {
     "name": "stdout",
     "output_type": "stream",
     "text": [
      "{'type': 'Image', 'bands': [{'id': 'BLUE', 'data_type': {'type': 'PixelType', 'precision': 'int', 'min': -32768, 'max': 32767}, 'dimensions': [7841, 7111], 'crs': 'EPSG:32618', 'crs_transform': [30, 0, 506085, 0, -30, 5047515]}, {'id': 'GREEN', 'data_type': {'type': 'PixelType', 'precision': 'int', 'min': -32768, 'max': 32767}, 'dimensions': [7841, 7111], 'crs': 'EPSG:32618', 'crs_transform': [30, 0, 506085, 0, -30, 5047515]}, {'id': 'RED', 'data_type': {'type': 'PixelType', 'precision': 'int', 'min': -32768, 'max': 32767}, 'dimensions': [7841, 7111], 'crs': 'EPSG:32618', 'crs_transform': [30, 0, 506085, 0, -30, 5047515]}, {'id': 'NIR', 'data_type': {'type': 'PixelType', 'precision': 'int', 'min': -32768, 'max': 32767}, 'dimensions': [7841, 7111], 'crs': 'EPSG:32618', 'crs_transform': [30, 0, 506085, 0, -30, 5047515]}, {'id': 'SWIR1', 'data_type': {'type': 'PixelType', 'precision': 'int', 'min': -32768, 'max': 32767}, 'dimensions': [7841, 7111], 'crs': 'EPSG:32618', 'crs_transform': [30, 0, 506085, 0, -30, 5047515]}, {'id': 'SWIR2', 'data_type': {'type': 'PixelType', 'precision': 'int', 'min': -32768, 'max': 32767}, 'dimensions': [7841, 7111], 'crs': 'EPSG:32618', 'crs_transform': [30, 0, 506085, 0, -30, 5047515]}, {'id': 'pixel_qa', 'data_type': {'type': 'PixelType', 'precision': 'int', 'min': 0, 'max': 65535}, 'dimensions': [7841, 7111], 'crs': 'EPSG:32618', 'crs_transform': [30, 0, 506085, 0, -30, 5047515]}, {'id': 'TOA_Celsius', 'data_type': {'type': 'PixelType', 'precision': 'double'}, 'dimensions': [7841, 7111], 'crs': 'EPSG:32618', 'crs_transform': [30, 0, 506085, 0, -30, 5047515]}, {'id': 'SOLAR_ZENITH_ANGLE', 'data_type': {'type': 'PixelType', 'precision': 'float'}, 'crs': 'EPSG:4326', 'crs_transform': [1, 0, 0, 0, 1, 0]}], 'version': 1521597431070753, 'id': 'LANDSAT/LT05/C01/T1_SR/LT05_014029_19840601', 'properties': {'SATELLITE': 'LANDSAT_5', 'SOLAR_AZIMUTH_ANGLE': 127.600708, 'WRS_PATH': 14, 'Chunk': 9, 'system:time_start': 454950403756, 'Centroid': 0, 'SENSING_TIME': '1984-06-01T15:06:43.7560500Z', 'ESPA_VERSION': '2_19_0c', 'Year': 1984, 'system:footprint': {'type': 'LinearRing', 'coordinates': [[-74.85864857307632, 43.988509396545055], [-74.85865722544371, 43.98487188705512], [-74.31127512214275, 43.90908419567564], [-73.24163618300754, 43.75290882871717], [-72.59961971269618, 43.65397717758461], [-72.59487026119209, 43.665198409909166], [-72.56400640131207, 43.74700671787387], [-72.54182143983033, 43.80649562057426], [-72.5073552252627, 43.89974441374607], [-72.16933182298459, 44.79771769121478], [-72.05286093246164, 45.10263687551642], [-72.00737548668761, 45.221110461796734], [-72.0066291759929, 45.227643494553206], [-72.71108631076677, 45.33629991976407], [-73.76070173171541, 45.4893882486473], [-74.32278198916161, 45.56708009192309], [-74.33031523787753, 45.565657964825284], [-74.34979848312773, 45.51377179282942], [-74.85598223014802, 44.005829516777034], [-74.85750202492106, 43.99770934511465], [-74.85864857307632, 43.988509396545055]]}, 'SOLAR_ZENITH_ANGLE': 31.119392, 'WRS_ROW': 29, 'GEOMETRIC_RMSE_MODEL_Y': 2.486, 'CLOUD_COVER_LAND': 27, 'LEVEL1_PRODUCTION_DATE': 1475608672000, 'GEOMETRIC_RMSE_MODEL_X': 3.082, 'system:asset_size': 395221327, 'GEOMETRIC_RMSE_MODEL': 3.96, 'Day': 152, 'SR_APP_VERSION': 'LEDAPS_3.2.0', 'PIXEL_QA_VERSION': 'generate_pixel_qa_1.5.0', 'system:index': '1_1_LT05_014029_19840601', 'Merged_Satellites': ['5'], 'LANDSAT_ID': 'LT05_L1TP_014029_19840601_20161004_01_T1', 'IMAGE_QUALITY': 9, 'CLOUD_COVER': 26, 'EARTH_SUN_DISTANCE': 1.014194}}\n"
     ]
    }
   ],
   "source": [
    "imgs = ic.getImageCollection(feat, True)\n",
    "imgs = imgs.sort(\"system:time_start\")\n",
    "print(imgs.first().getInfo())"
   ]
  },
  {
   "cell_type": "markdown",
   "metadata": {},
   "source": [
    "Let's set up the map to check how the images were loaded, as well as the visual parameters. "
   ]
  },
  {
   "cell_type": "code",
   "execution_count": 5,
   "metadata": {
    "scrolled": false
   },
   "outputs": [
    {
     "data": {
      "application/vnd.jupyter.widget-view+json": {
       "model_id": "e2e4daaa379f494aa5b812ac17272eb4",
       "version_major": 2,
       "version_minor": 0
      },
      "text/plain": [
       "Map(center=[43.601748078270504, -73.57973412405578], controls=(WidgetControl(options=['position'], widget=HBox…"
      ]
     },
     "metadata": {},
     "output_type": "display_data"
    }
   ],
   "source": [
    "viz = {\n",
    "    'bands': [\"RED\", \"GREEN\", \"BLUE\"],\n",
    "    'min': 0, \n",
    "    'max': 3000,\n",
    "    'gamma': 1.4\n",
    "}\n",
    "\n",
    "Map = geemap.Map(location=[lat, long], zoom_start=10)\n",
    "Map.addLayer(imgs.first(), viz, \"Test\", True)\n",
    "Map.addLayer(feat.geometry(), {}, \"Feature\", True)\n",
    "Map.setControlVisibility(layerControl=True, fullscreenControl=True, latLngPopup=False)\n",
    "Map\n"
   ]
  },
  {
   "cell_type": "markdown",
   "metadata": {},
   "source": [
    "We should now try out the MergeCentroid script to merge the centroids. "
   ]
  },
  {
   "cell_type": "code",
   "execution_count": 6,
   "metadata": {
    "scrolled": true
   },
   "outputs": [],
   "source": [
    "merged = mc.mergeByChunk(imgs)"
   ]
  },
  {
   "cell_type": "markdown",
   "metadata": {},
   "source": [
    "Since the size is good, let's visualize one of the merged images to make sure that it is working appropriately. "
   ]
  },
  {
   "cell_type": "code",
   "execution_count": 7,
   "metadata": {},
   "outputs": [
    {
     "data": {
      "application/vnd.jupyter.widget-view+json": {
       "model_id": "e2e4daaa379f494aa5b812ac17272eb4",
       "version_major": 2,
       "version_minor": 0
      },
      "text/plain": [
       "Map(center=[43.601748078270504, -73.57973412405578], controls=(WidgetControl(options=['position'], widget=HBox…"
      ]
     },
     "metadata": {},
     "output_type": "display_data"
    }
   ],
   "source": [
    "Map.addLayer(merged.first(), viz, \"Merged\", True)\n",
    "Map.addLayer(feat.geometry(), {}, \"Feature\", True)\n",
    "Map.setControlVisibility(layerControl=True, fullscreenControl=True, latLngPopup=False)\n",
    "Map"
   ]
  },
  {
   "cell_type": "markdown",
   "metadata": {},
   "source": [
    "So it seems to have worked and matches up with the incomplete image from the original map! Now, we should test out the Subroutines that have been defined, like the cloud codes and water isolation methods. "
   ]
  },
  {
   "cell_type": "code",
   "execution_count": 8,
   "metadata": {},
   "outputs": [
    {
     "data": {
      "application/vnd.jupyter.widget-view+json": {
       "model_id": "e2e4daaa379f494aa5b812ac17272eb4",
       "version_major": 2,
       "version_minor": 0
      },
      "text/plain": [
       "Map(center=[43.601748078270504, -73.57973412405578], controls=(WidgetControl(options=['position'], widget=HBox…"
      ]
     },
     "metadata": {},
     "output_type": "display_data"
    }
   ],
   "source": [
    "img = merged.first()\n",
    "img = sub.noClouds(img)\n",
    "Map.addLayer(img, viz, \"NoCloud\", True)\n",
    "Map"
   ]
  },
  {
   "cell_type": "markdown",
   "metadata": {},
   "source": [
    "It worked! Time to test the water isolation methods: "
   ]
  },
  {
   "cell_type": "code",
   "execution_count": 9,
   "metadata": {},
   "outputs": [
    {
     "data": {
      "application/vnd.jupyter.widget-view+json": {
       "model_id": "e2e4daaa379f494aa5b812ac17272eb4",
       "version_major": 2,
       "version_minor": 0
      },
      "text/plain": [
       "Map(center=[43.601748078270504, -73.57973412405578], controls=(WidgetControl(options=['position'], widget=HBox…"
      ]
     },
     "metadata": {},
     "output_type": "display_data"
    }
   ],
   "source": [
    "gsw = ee.Image('JRC/GSW1_0/GlobalSurfaceWater').select(\"occurrence\")\n",
    "geom = feat.geometry()\n",
    "img = ee.ImageCollection(img).map(sub.waterIsolationSWIR(gsw, geom))\n",
    "Map.addLayer(img, viz, \"Water\", True)\n",
    "Map.setControlVisibility(layerControl=True, fullscreenControl=True, latLngPopup=False)\n",
    "Map"
   ]
  }
 ],
 "metadata": {
  "kernelspec": {
   "display_name": "Python 3",
   "language": "python",
   "name": "python3"
  },
  "language_info": {
   "codemirror_mode": {
    "name": "ipython",
    "version": 3
   },
   "file_extension": ".py",
   "mimetype": "text/x-python",
   "name": "python",
   "nbconvert_exporter": "python",
   "pygments_lexer": "ipython3",
   "version": "3.7.7"
  }
 },
 "nbformat": 4,
 "nbformat_minor": 4
}
