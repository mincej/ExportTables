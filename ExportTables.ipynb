{
 "cells": [
  {
   "cell_type": "markdown",
   "metadata": {},
   "source": [
    "## Table Export\n",
    "The purpose of this script is to loop through the filtered NHD collection of lakes, generate a median reflectance table of blue, green, red, near IR, short-wave IR 1, short-wave IR 2, and others in a time-series format. These will be used later in R for processing and water clarity estimation to get a sense of it's change over time. \n",
    "Joshua L. Mincer 7/29/2020\n"
   ]
  },
  {
   "cell_type": "markdown",
   "metadata": {},
   "source": [
    "Load in all of the needed packages and scripts:"
   ]
  },
  {
   "cell_type": "code",
   "execution_count": 1,
   "metadata": {},
   "outputs": [],
   "source": [
    "import ee\n",
    "import folium\n",
    "import time\n",
    "import logging\n",
    "from datetime import datetime\n",
    "import simplejson as json\n",
    "import GetImageCollection as ic\n",
    "import MergeChunk as mc\n",
    "import Subroutines as sub\n",
    "import CloudCodes as cc\n",
    "\n",
    "ee.Initialize()\n",
    "\n",
    "nhd = ee.FeatureCollection(\"users/mincej20/NHD_Filtered_addID\").sort(\"AreSqKm\", False)\n",
    "gsw = ee.Image('JRC/GSW1_0/GlobalSurfaceWater').select(\"occurrence\")"
   ]
  },
  {
   "cell_type": "code",
   "execution_count": 2,
   "metadata": {},
   "outputs": [
    {
     "name": "stdout",
     "output_type": "stream",
     "text": [
      "2020-08-16 18:34:37.459684\n"
     ]
    }
   ],
   "source": [
    "print(datetime.now())"
   ]
  },
  {
   "cell_type": "markdown",
   "metadata": {},
   "source": [
    "For a test, let's subset the list. "
   ]
  },
  {
   "cell_type": "code",
   "execution_count": 3,
   "metadata": {},
   "outputs": [],
   "source": [
    "nhd_id = nhd.select(propertySelectors = [\"system:index\"], retainGeometry=False)\n",
    "nhd_list = (nhd_id.toList(1_000_000)\n",
    "            .map(lambda feat: ee.Feature(feat).id())\n",
    "            .getInfo())\n",
    "nhd_size = len(nhd_list)"
   ]
  },
  {
   "cell_type": "code",
   "execution_count": 4,
   "metadata": {},
   "outputs": [
    {
     "name": "stdout",
     "output_type": "stream",
     "text": [
      "0000000000000000001f\n",
      "104713\n"
     ]
    }
   ],
   "source": [
    "print(nhd_list[0])\n",
    "print(nhd_size)"
   ]
  },
  {
   "cell_type": "markdown",
   "metadata": {},
   "source": [
    "Lets put together a group that will export each derived thing and see how long it takes. \n",
    "We have about 100,000 lakes, 1,000 times less than our subset. We'll keep this in mind. "
   ]
  },
  {
   "cell_type": "code",
   "execution_count": 5,
   "metadata": {},
   "outputs": [
    {
     "name": "stdout",
     "output_type": "stream",
     "text": [
      "0   22000800267833   Lake Michigan\n",
      "\n"
     ]
    },
    {
     "ename": "EEException",
     "evalue": "Computation timed out.",
     "output_type": "error",
     "traceback": [
      "\u001b[1;31m---------------------------------------------------------------------------\u001b[0m",
      "\u001b[1;31mHttpError\u001b[0m                                 Traceback (most recent call last)",
      "\u001b[1;32m~\\anaconda3\\envs\\exporttables\\lib\\site-packages\\ee\\data.py\u001b[0m in \u001b[0;36m_execute_cloud_call\u001b[1;34m(call, num_retries)\u001b[0m\n\u001b[0;32m    344\u001b[0m   \u001b[1;32mtry\u001b[0m\u001b[1;33m:\u001b[0m\u001b[1;33m\u001b[0m\u001b[1;33m\u001b[0m\u001b[0m\n\u001b[1;32m--> 345\u001b[1;33m     \u001b[1;32mreturn\u001b[0m \u001b[0mcall\u001b[0m\u001b[1;33m.\u001b[0m\u001b[0mexecute\u001b[0m\u001b[1;33m(\u001b[0m\u001b[0mnum_retries\u001b[0m\u001b[1;33m=\u001b[0m\u001b[0mnum_retries\u001b[0m\u001b[1;33m)\u001b[0m\u001b[1;33m\u001b[0m\u001b[1;33m\u001b[0m\u001b[0m\n\u001b[0m\u001b[0;32m    346\u001b[0m   \u001b[1;32mexcept\u001b[0m \u001b[0mgoogleapiclient\u001b[0m\u001b[1;33m.\u001b[0m\u001b[0merrors\u001b[0m\u001b[1;33m.\u001b[0m\u001b[0mHttpError\u001b[0m \u001b[1;32mas\u001b[0m \u001b[0me\u001b[0m\u001b[1;33m:\u001b[0m\u001b[1;33m\u001b[0m\u001b[1;33m\u001b[0m\u001b[0m\n",
      "\u001b[1;32m~\\anaconda3\\envs\\exporttables\\lib\\site-packages\\googleapiclient\\_helpers.py\u001b[0m in \u001b[0;36mpositional_wrapper\u001b[1;34m(*args, **kwargs)\u001b[0m\n\u001b[0;32m    133\u001b[0m                     \u001b[0mlogger\u001b[0m\u001b[1;33m.\u001b[0m\u001b[0mwarning\u001b[0m\u001b[1;33m(\u001b[0m\u001b[0mmessage\u001b[0m\u001b[1;33m)\u001b[0m\u001b[1;33m\u001b[0m\u001b[1;33m\u001b[0m\u001b[0m\n\u001b[1;32m--> 134\u001b[1;33m             \u001b[1;32mreturn\u001b[0m \u001b[0mwrapped\u001b[0m\u001b[1;33m(\u001b[0m\u001b[1;33m*\u001b[0m\u001b[0margs\u001b[0m\u001b[1;33m,\u001b[0m \u001b[1;33m**\u001b[0m\u001b[0mkwargs\u001b[0m\u001b[1;33m)\u001b[0m\u001b[1;33m\u001b[0m\u001b[1;33m\u001b[0m\u001b[0m\n\u001b[0m\u001b[0;32m    135\u001b[0m \u001b[1;33m\u001b[0m\u001b[0m\n",
      "\u001b[1;32m~\\anaconda3\\envs\\exporttables\\lib\\site-packages\\googleapiclient\\http.py\u001b[0m in \u001b[0;36mexecute\u001b[1;34m(self, http, num_retries)\u001b[0m\n\u001b[0;32m    906\u001b[0m         \u001b[1;32mif\u001b[0m \u001b[0mresp\u001b[0m\u001b[1;33m.\u001b[0m\u001b[0mstatus\u001b[0m \u001b[1;33m>=\u001b[0m \u001b[1;36m300\u001b[0m\u001b[1;33m:\u001b[0m\u001b[1;33m\u001b[0m\u001b[1;33m\u001b[0m\u001b[0m\n\u001b[1;32m--> 907\u001b[1;33m             \u001b[1;32mraise\u001b[0m \u001b[0mHttpError\u001b[0m\u001b[1;33m(\u001b[0m\u001b[0mresp\u001b[0m\u001b[1;33m,\u001b[0m \u001b[0mcontent\u001b[0m\u001b[1;33m,\u001b[0m \u001b[0muri\u001b[0m\u001b[1;33m=\u001b[0m\u001b[0mself\u001b[0m\u001b[1;33m.\u001b[0m\u001b[0muri\u001b[0m\u001b[1;33m)\u001b[0m\u001b[1;33m\u001b[0m\u001b[1;33m\u001b[0m\u001b[0m\n\u001b[0m\u001b[0;32m    908\u001b[0m         \u001b[1;32mreturn\u001b[0m \u001b[0mself\u001b[0m\u001b[1;33m.\u001b[0m\u001b[0mpostproc\u001b[0m\u001b[1;33m(\u001b[0m\u001b[0mresp\u001b[0m\u001b[1;33m,\u001b[0m \u001b[0mcontent\u001b[0m\u001b[1;33m)\u001b[0m\u001b[1;33m\u001b[0m\u001b[1;33m\u001b[0m\u001b[0m\n",
      "\u001b[1;31mHttpError\u001b[0m: <HttpError 400 when requesting https://earthengine.googleapis.com/v1alpha/projects/earthengine-legacy/value:compute?prettyPrint=false&alt=json returned \"Computation timed out.\">",
      "\nDuring handling of the above exception, another exception occurred:\n",
      "\u001b[1;31mEEException\u001b[0m                               Traceback (most recent call last)",
      "\u001b[1;32m<ipython-input-5-b4f1a5a00e36>\u001b[0m in \u001b[0;36m<module>\u001b[1;34m\u001b[0m\n\u001b[0;32m     59\u001b[0m         \u001b[1;32mbreak\u001b[0m\u001b[1;33m\u001b[0m\u001b[1;33m\u001b[0m\u001b[0m\n\u001b[0;32m     60\u001b[0m \u001b[1;33m\u001b[0m\u001b[0m\n\u001b[1;32m---> 61\u001b[1;33m     \u001b[0msize_tab\u001b[0m \u001b[1;33m=\u001b[0m \u001b[0mee\u001b[0m\u001b[1;33m.\u001b[0m\u001b[0mNumber\u001b[0m\u001b[1;33m(\u001b[0m\u001b[0mimgs\u001b[0m\u001b[1;33m.\u001b[0m\u001b[0msize\u001b[0m\u001b[1;33m(\u001b[0m\u001b[1;33m)\u001b[0m\u001b[1;33m)\u001b[0m\u001b[1;33m.\u001b[0m\u001b[0mgetInfo\u001b[0m\u001b[1;33m(\u001b[0m\u001b[1;33m)\u001b[0m\u001b[1;33m\u001b[0m\u001b[1;33m\u001b[0m\u001b[0m\n\u001b[0m\u001b[0;32m     62\u001b[0m     \u001b[0msize_dist\u001b[0m \u001b[1;33m=\u001b[0m \u001b[0mee\u001b[0m\u001b[1;33m.\u001b[0m\u001b[0mNumber\u001b[0m\u001b[1;33m(\u001b[0m\u001b[0mimgs\u001b[0m\u001b[1;33m.\u001b[0m\u001b[0maggregate_sum\u001b[0m\u001b[1;33m(\u001b[0m\u001b[1;34m\"Count_Distinct\"\u001b[0m\u001b[1;33m)\u001b[0m\u001b[1;33m)\u001b[0m\u001b[1;33m.\u001b[0m\u001b[0mgetInfo\u001b[0m\u001b[1;33m(\u001b[0m\u001b[1;33m)\u001b[0m\u001b[1;33m\u001b[0m\u001b[1;33m\u001b[0m\u001b[0m\n\u001b[0;32m     63\u001b[0m \u001b[1;33m\u001b[0m\u001b[0m\n",
      "\u001b[1;32m~\\anaconda3\\envs\\exporttables\\lib\\site-packages\\ee\\computedobject.py\u001b[0m in \u001b[0;36mgetInfo\u001b[1;34m(self)\u001b[0m\n\u001b[0;32m     93\u001b[0m       \u001b[0mThe\u001b[0m \u001b[0mobject\u001b[0m \u001b[0mcan\u001b[0m \u001b[0mevaluate\u001b[0m \u001b[0mto\u001b[0m \u001b[0manything\u001b[0m\u001b[1;33m.\u001b[0m\u001b[1;33m\u001b[0m\u001b[1;33m\u001b[0m\u001b[0m\n\u001b[0;32m     94\u001b[0m     \"\"\"\n\u001b[1;32m---> 95\u001b[1;33m     \u001b[1;32mreturn\u001b[0m \u001b[0mdata\u001b[0m\u001b[1;33m.\u001b[0m\u001b[0mcomputeValue\u001b[0m\u001b[1;33m(\u001b[0m\u001b[0mself\u001b[0m\u001b[1;33m)\u001b[0m\u001b[1;33m\u001b[0m\u001b[1;33m\u001b[0m\u001b[0m\n\u001b[0m\u001b[0;32m     96\u001b[0m \u001b[1;33m\u001b[0m\u001b[0m\n\u001b[0;32m     97\u001b[0m   \u001b[1;32mdef\u001b[0m \u001b[0mencode\u001b[0m\u001b[1;33m(\u001b[0m\u001b[0mself\u001b[0m\u001b[1;33m,\u001b[0m \u001b[0mencoder\u001b[0m\u001b[1;33m)\u001b[0m\u001b[1;33m:\u001b[0m\u001b[1;33m\u001b[0m\u001b[1;33m\u001b[0m\u001b[0m\n",
      "\u001b[1;32m~\\anaconda3\\envs\\exporttables\\lib\\site-packages\\ee\\data.py\u001b[0m in \u001b[0;36mcomputeValue\u001b[1;34m(obj)\u001b[0m\n\u001b[0;32m    704\u001b[0m   \"\"\"\n\u001b[0;32m    705\u001b[0m   \u001b[1;32mif\u001b[0m \u001b[0m_use_cloud_api\u001b[0m\u001b[1;33m:\u001b[0m\u001b[1;33m\u001b[0m\u001b[1;33m\u001b[0m\u001b[0m\n\u001b[1;32m--> 706\u001b[1;33m     return _execute_cloud_call(\n\u001b[0m\u001b[0;32m    707\u001b[0m         _get_cloud_api_resource().projects().value().compute(\n\u001b[0;32m    708\u001b[0m             \u001b[0mbody\u001b[0m\u001b[1;33m=\u001b[0m\u001b[1;33m{\u001b[0m\u001b[1;34m'expression'\u001b[0m\u001b[1;33m:\u001b[0m \u001b[0mserializer\u001b[0m\u001b[1;33m.\u001b[0m\u001b[0mencode\u001b[0m\u001b[1;33m(\u001b[0m\u001b[0mobj\u001b[0m\u001b[1;33m,\u001b[0m \u001b[0mfor_cloud_api\u001b[0m\u001b[1;33m=\u001b[0m\u001b[1;32mTrue\u001b[0m\u001b[1;33m)\u001b[0m\u001b[1;33m}\u001b[0m\u001b[1;33m,\u001b[0m\u001b[1;33m\u001b[0m\u001b[1;33m\u001b[0m\u001b[0m\n",
      "\u001b[1;32m~\\anaconda3\\envs\\exporttables\\lib\\site-packages\\ee\\data.py\u001b[0m in \u001b[0;36m_execute_cloud_call\u001b[1;34m(call, num_retries)\u001b[0m\n\u001b[0;32m    345\u001b[0m     \u001b[1;32mreturn\u001b[0m \u001b[0mcall\u001b[0m\u001b[1;33m.\u001b[0m\u001b[0mexecute\u001b[0m\u001b[1;33m(\u001b[0m\u001b[0mnum_retries\u001b[0m\u001b[1;33m=\u001b[0m\u001b[0mnum_retries\u001b[0m\u001b[1;33m)\u001b[0m\u001b[1;33m\u001b[0m\u001b[1;33m\u001b[0m\u001b[0m\n\u001b[0;32m    346\u001b[0m   \u001b[1;32mexcept\u001b[0m \u001b[0mgoogleapiclient\u001b[0m\u001b[1;33m.\u001b[0m\u001b[0merrors\u001b[0m\u001b[1;33m.\u001b[0m\u001b[0mHttpError\u001b[0m \u001b[1;32mas\u001b[0m \u001b[0me\u001b[0m\u001b[1;33m:\u001b[0m\u001b[1;33m\u001b[0m\u001b[1;33m\u001b[0m\u001b[0m\n\u001b[1;32m--> 347\u001b[1;33m     \u001b[1;32mraise\u001b[0m \u001b[0m_translate_cloud_exception\u001b[0m\u001b[1;33m(\u001b[0m\u001b[0me\u001b[0m\u001b[1;33m)\u001b[0m\u001b[1;33m\u001b[0m\u001b[1;33m\u001b[0m\u001b[0m\n\u001b[0m\u001b[0;32m    348\u001b[0m \u001b[1;33m\u001b[0m\u001b[0m\n\u001b[0;32m    349\u001b[0m \u001b[1;33m\u001b[0m\u001b[0m\n",
      "\u001b[1;31mEEException\u001b[0m: Computation timed out."
     ]
    }
   ],
   "source": [
    "i = 0\n",
    "log = open('Log_Export.txt', 'a')\n",
    "dt = datetime.now()\n",
    "sesh = str(\"Starting session: \" + str(dt) + \"\\n\")\n",
    "end_sesh = \"Ending session...\"\n",
    "log.write(sesh)\n",
    "\n",
    "while i < 10:\n",
    "    nhd_id = nhd_list[i]\n",
    "    feat = nhd.filterMetadata(\"system:index\", \"equals\", nhd_id)\n",
    "    \n",
    "    if ee.Number(feat.size()).getInfo() > 1:\n",
    "        msg = \"Not unique ids!\"\n",
    "        log.write(msg + \"\\n\" + end_sesh + str(datetime.now()))\n",
    "        print(msg)\n",
    "        log.close()\n",
    "        break\n",
    "    else: \n",
    "        feat = ee.Feature(feat.first())\n",
    "        \n",
    "    geom = feat.geometry()\n",
    "    name = str(ee.String(feat.get(\"GNIS_Nm\")).getInfo())\n",
    "    nhdplid = str(ee.String(feat.get(\"NHDPlID\")).getInfo())\n",
    "    msg = str(i) + \"   \" + nhdplid + \"   \" + name + \"\\n\"\n",
    "    \n",
    "    print(msg)\n",
    "    log.write(msg)\n",
    "    try: \n",
    "        imgs = ic.getImageCollection(feat, False)\n",
    "        imgs = (imgs.sort(\"system:time_start\"))\n",
    "    except: \n",
    "        err = logging.exception(\"message\")\n",
    "        msg = \"Memory Error: Getting Images\"\n",
    "        log.write(msg + \"\\n\", + err + \"\\n\" + end_sesh + str(datetime.now()))\n",
    "        print(msg)\n",
    "        log.close()\n",
    "        break\n",
    "\n",
    "    try: \n",
    "        imgs = imgs.map(sub.noClouds).map(sub.waterIsolationSWIR(gsw, geom))\n",
    "    except: \n",
    "        err = logging.exception(\"message\")\n",
    "        msg = \"Memory Error: Water Isolation\"\n",
    "        log.write(msg + \"\\n\", + err + \"\\n\" + end_sesh + str(datetime.now()))\n",
    "        print(msg)\n",
    "        log.close()\n",
    "        break\n",
    "        \n",
    "    try: \n",
    "        imgs = ee.ImageCollection(mc.mergeByChunk(imgs))\n",
    "        imgs = imgs.map(sub.distinctMerged)\n",
    "\n",
    "    except: \n",
    "        err = logging.exception(\"message\")\n",
    "        msg = \"Memory Error: Merging\"\n",
    "        log.write(msg + \"\\n\", + err + \"\\n\" + end_sesh + str(datetime.now()))\n",
    "        print(msg)\n",
    "        log.close()\n",
    "        break\n",
    "    \n",
    "    size_tab = ee.Number(imgs.size()).getInfo()\n",
    "    size_dist = ee.Number(imgs.aggregate_sum(\"Count_Distinct\")).getInfo()\n",
    "    \n",
    "    if size_tab != size_dist:\n",
    "        msg = \"Images from different satellites merged!\"\n",
    "        log.write(msg + \"\\n\" + end_sesh + str(datetime.now()))\n",
    "        print(msg)\n",
    "        log.close()\n",
    "        break\n",
    "\n",
    "    try: \n",
    "        imgs = imgs.map(sub.countPixels(geom))\n",
    "        imgs = imgs.filterMetadata(\"Count\", \"greater_than\", 11) \n",
    "    except: \n",
    "        err = logging.exception(\"message\")\n",
    "        msg = \"Memory Error: Counting Pixels and Filtering\"\n",
    "        log.write(msg + \"\\n\", + err + \"\\n\" + end_sesh + str(datetime.now()))\n",
    "        print(msg)\n",
    "        log.close()\n",
    "        break\n",
    "\n",
    "    \n",
    "\n",
    "    try: \n",
    "        imgs = imgs.map(sub.satInt)\n",
    "        table = ee.FeatureCollection(imgs.map(sub.reduceColors(feat)))\n",
    "\n",
    "    except: \n",
    "        err = logging.exception(\"message\")\n",
    "        msg = \"Memory Error: Reducing Colors\"\n",
    "        log.write(msg + \"\\n\", + err + \"\\n\" + end_sesh + str(datetime.now()))\n",
    "        print(msg)\n",
    "        log.close()\n",
    "        break\n",
    "\n",
    "    \n",
    "    task = ee.batch.Export.table.toDrive(table, \n",
    "                                  (ee.String(\"Export\").cat(\" \").cat(ee.String(name))).getInfo(),\n",
    "                                  **{'fileFormat': 'CSV',\n",
    "                                     'driveFolder': 'LakeExports', \n",
    "                                     'fileNamePrefix': nhdplid})\n",
    "    try:\n",
    "        task.start()\n",
    "        i += 1\n",
    "    except: \n",
    "        msg = \"Queue Full: Waiting 5 minutes...\"\n",
    "        log.write(msg + \"\\n\")\n",
    "        print(msg)\n",
    "        err = logging.exception(\"message\")\n",
    "\n",
    "        print(err)\n",
    "        time.sleep(300)\n",
    "        \n",
    "        try:\n",
    "            task.start()\n",
    "            i += 1\n",
    "        except: \n",
    "            msg = \"Failed again. Looping through again...\"\n",
    "            log.write(msg + \"\\n\")\n",
    "            print(msg)\n",
    "            \n",
    "log.close()\n",
    "    "
   ]
  }
 ],
 "metadata": {
  "kernelspec": {
   "display_name": "Python 3",
   "language": "python",
   "name": "python3"
  },
  "language_info": {
   "codemirror_mode": {
    "name": "ipython",
    "version": 3
   },
   "file_extension": ".py",
   "mimetype": "text/x-python",
   "name": "python",
   "nbconvert_exporter": "python",
   "pygments_lexer": "ipython3",
   "version": "3.8.5"
  }
 },
 "nbformat": 4,
 "nbformat_minor": 4
}
