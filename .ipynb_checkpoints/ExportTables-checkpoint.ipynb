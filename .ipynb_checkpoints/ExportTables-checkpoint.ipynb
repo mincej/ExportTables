{
 "cells": [
  {
   "cell_type": "markdown",
   "metadata": {},
   "source": [
    "## Table Export\n",
    "The purpose of this script is to loop through the filtered NHD collection of lakes, generate a median reflectance table of blue, green, red, near IR, short-wave IR 1, short-wave IR 2, and others in a time-series format. These will be used later in R for processing and water clarity estimation to get a sense of it's change over time. \n",
    "Joshua L. Mincer 7/29/2020\n"
   ]
  },
  {
   "cell_type": "markdown",
   "metadata": {},
   "source": [
    "Load in all of the needed packages and scripts:"
   ]
  },
  {
   "cell_type": "code",
   "execution_count": 1,
   "metadata": {},
   "outputs": [],
   "source": [
    "import ee\n",
    "import folium\n",
    "import time\n",
    "import logging\n",
    "from datetime import datetime\n",
    "import simplejson as json\n",
    "import GetImageCollection as ic\n",
    "import MergeChunk as mc\n",
    "import Subroutines as sub\n",
    "import CloudCodes as cc\n",
    "\n",
    "ee.Initialize()\n",
    "\n",
    "nhd = ee.FeatureCollection(\"users/mincej20/NHD_Filtered_addID\").sort(\"AreSqKm\", False)\n",
    "gsw = ee.Image('JRC/GSW1_0/GlobalSurfaceWater').select(\"occurrence\")"
   ]
  },
  {
   "cell_type": "code",
   "execution_count": 2,
   "metadata": {},
   "outputs": [
    {
     "name": "stdout",
     "output_type": "stream",
     "text": [
      "2020-08-16 16:38:32.389929\n"
     ]
    }
   ],
   "source": [
    "print(datetime.now())"
   ]
  },
  {
   "cell_type": "markdown",
   "metadata": {},
   "source": [
    "For a test, let's subset the list. "
   ]
  },
  {
   "cell_type": "code",
   "execution_count": 3,
   "metadata": {},
   "outputs": [],
   "source": [
    "nhd_id = nhd.select(propertySelectors = [\"system:index\"], retainGeometry=False)\n",
    "nhd_list = (nhd_id.toList(1_000_000)\n",
    "            .map(lambda feat: ee.Feature(feat).id())\n",
    "            .getInfo())\n",
    "nhd_size = len(nhd_list)"
   ]
  },
  {
   "cell_type": "code",
   "execution_count": 4,
   "metadata": {},
   "outputs": [
    {
     "name": "stdout",
     "output_type": "stream",
     "text": [
      "00000000000000000ac7\n",
      "104713\n"
     ]
    }
   ],
   "source": [
    "print(nhd_list[0])\n",
    "print(nhd_size)"
   ]
  },
  {
   "cell_type": "markdown",
   "metadata": {},
   "source": [
    "Lets put together a group that will export each derived thing and see how long it takes. \n",
    "We have about 100,000 lakes, 1,000 times less than our subset. We'll keep this in mind. "
   ]
  },
  {
   "cell_type": "code",
   "execution_count": 5,
   "metadata": {},
   "outputs": [
    {
     "name": "stdout",
     "output_type": "stream",
     "text": [
      "0   22001300039901   Lake Annie\n",
      "\n",
      "1   5000200044649   Flood Pond\n",
      "\n",
      "2   65000300116602   Snuff Lake\n",
      "\n",
      "3   22001200030521   \n",
      "\n",
      "4   5000500034458   \n",
      "\n",
      "5   22001300034235   \n",
      "\n",
      "6   65000300120974   \n",
      "\n",
      "7   5000400053945   Snow Mountain Pond\n",
      "\n",
      "8   5000200044281   Splan Pond\n",
      "\n",
      "9   65000300127048   \n",
      "\n"
     ]
    }
   ],
   "source": [
    "i = 0\n",
    "log = open('Log_Export.txt', 'a')\n",
    "dt = datetime.now()\n",
    "sesh = str(\"Starting session: \" + str(dt) + \"\\n\")\n",
    "end_sesh = \"Ending session...\"\n",
    "log.write(sesh)\n",
    "\n",
    "while i < 10:\n",
    "    nhd_id = nhd_list[i]\n",
    "    feat = nhd.filterMetadata(\"system:index\", \"equals\", nhd_id)\n",
    "    \n",
    "    if ee.Number(feat.size()).getInfo() > 1:\n",
    "        msg = \"Not unique ids!\"\n",
    "        log.write(msg + \"\\n\" + end_sesh + str(datetime.now()))\n",
    "        print(msg)\n",
    "        log.close()\n",
    "        break\n",
    "    else: \n",
    "        feat = ee.Feature(feat.first())\n",
    "        \n",
    "    geom = feat.geometry()\n",
    "    name = str(ee.String(feat.get(\"GNIS_Nm\")).getInfo())\n",
    "    nhdplid = str(ee.String(feat.get(\"NHDPlID\")).getInfo())\n",
    "    msg = str(i) + \"   \" + nhdplid + \"   \" + name + \"\\n\"\n",
    "    \n",
    "    print(msg)\n",
    "    log.write(msg)\n",
    "    try: \n",
    "        imgs = ic.getImageCollection(feat, False)\n",
    "        imgs = (imgs.sort(\"system:time_start\"))\n",
    "    except: \n",
    "        err = logging.exception(\"message\")\n",
    "        msg = \"Memory Error: Getting Images\"\n",
    "        log.write(msg + \"\\n\", + err + \"\\n\" + end_sesh + str(datetime.now()))\n",
    "        print(msg)\n",
    "        log.close()\n",
    "        break\n",
    "\n",
    "    try: \n",
    "        imgs = imgs.map(sub.noClouds).map(sub.waterIsolationSWIR(gsw, geom))\n",
    "    except: \n",
    "        err = logging.exception(\"message\")\n",
    "        msg = \"Memory Error: Water Isolation\"\n",
    "        log.write(msg + \"\\n\", + err + \"\\n\" + end_sesh + str(datetime.now()))\n",
    "        print(msg)\n",
    "        log.close()\n",
    "        break\n",
    "        \n",
    "    try: \n",
    "        imgs = ee.ImageCollection(mc.mergeByChunk(imgs))\n",
    "        imgs = imgs.map(sub.distinctMerged)\n",
    "\n",
    "    except: \n",
    "        err = logging.exception(\"message\")\n",
    "        msg = \"Memory Error: Merging\"\n",
    "        log.write(msg + \"\\n\", + err + \"\\n\" + end_sesh + str(datetime.now()))\n",
    "        print(msg)\n",
    "        log.close()\n",
    "        break\n",
    "    \n",
    "    size_tab = ee.Number(imgs.size()).getInfo()\n",
    "    size_dist = ee.Number(imgs.aggregate_sum(\"Count_Distinct\")).getInfo()\n",
    "    \n",
    "    if size_tab != size_dist:\n",
    "        msg = \"Images from different satellites merged!\"\n",
    "        log.write(msg + \"\\n\" + end_sesh + str(datetime.now()))\n",
    "        print(msg)\n",
    "        log.close()\n",
    "        break\n",
    "\n",
    "    try: \n",
    "        imgs = imgs.map(sub.countPixels(geom))\n",
    "        imgs = imgs.filterMetadata(\"Count\", \"greater_than\", 11) \n",
    "    except: \n",
    "        err = logging.exception(\"message\")\n",
    "        msg = \"Memory Error: Counting Pixels and Filtering\"\n",
    "        log.write(msg + \"\\n\", + err + \"\\n\" + end_sesh + str(datetime.now()))\n",
    "        print(msg)\n",
    "        log.close()\n",
    "        break\n",
    "\n",
    "    \n",
    "\n",
    "    try: \n",
    "        imgs = imgs.map(sub.satInt)\n",
    "        table = ee.FeatureCollection(imgs.map(sub.reduceColors(feat)))\n",
    "\n",
    "    except: \n",
    "        err = logging.exception(\"message\")\n",
    "        msg = \"Memory Error: Reducing Colors\"\n",
    "        log.write(msg + \"\\n\", + err + \"\\n\" + end_sesh + str(datetime.now()))\n",
    "        print(msg)\n",
    "        log.close()\n",
    "        break\n",
    "\n",
    "    \n",
    "    task = ee.batch.Export.table.toDrive(table, \n",
    "                                  (ee.String(\"Export\").cat(\" \").cat(ee.String(name))).getInfo(),\n",
    "                                  **{'fileFormat': 'CSV',\n",
    "                                     'driveFolder': 'LakeExports', \n",
    "                                     'fileNamePrefix': nhdplid})\n",
    "    try:\n",
    "        task.start()\n",
    "        i += 1\n",
    "    except: \n",
    "        msg = \"Queue Full: Waiting 5 minutes...\"\n",
    "        log.write(msg + \"\\n\")\n",
    "        print(msg)\n",
    "        err = logging.exception(\"message\")\n",
    "\n",
    "        print(err)\n",
    "        time.sleep(300)\n",
    "        \n",
    "        try:\n",
    "            task.start()\n",
    "            i += 1\n",
    "        except: \n",
    "            msg = \"Failed again. Looping through again...\"\n",
    "            log.write(msg + \"\\n\")\n",
    "            print(msg)\n",
    "            \n",
    "log.close()\n",
    "    "
   ]
  }
 ],
 "metadata": {
  "kernelspec": {
   "display_name": "Python 3",
   "language": "python",
   "name": "python3"
  },
  "language_info": {
   "codemirror_mode": {
    "name": "ipython",
    "version": 3
   },
   "file_extension": ".py",
   "mimetype": "text/x-python",
   "name": "python",
   "nbconvert_exporter": "python",
   "pygments_lexer": "ipython3",
   "version": "3.8.5"
  }
 },
 "nbformat": 4,
 "nbformat_minor": 4
}
