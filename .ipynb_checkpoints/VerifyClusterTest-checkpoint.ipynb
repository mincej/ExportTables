{
 "cells": [
  {
   "cell_type": "markdown",
   "metadata": {},
   "source": [
    "## Verify Cluster Mirror from Java\n",
    "\n",
    "The purpose of this script is to copy the same methods as in the Javascript equivalent. This will be the main test to determine that the Python integration was successful. \n",
    "\n",
    "First, load in some global variables. "
   ]
  },
  {
   "cell_type": "code",
   "execution_count": 1,
   "metadata": {},
   "outputs": [],
   "source": [
    "import ee\n",
    "import GetImageCollection as ic\n",
    "import CloudCodes as cc\n",
    "import Subroutines as sub \n",
    "import MergeChunk as mc\n",
    "\n",
    "nhd = ee.FeatureCollection(\"users/mincej20/NHD_Filtered_addID\").sort(\"AreSqKm\", False).distinct(\".geo\")\n",
    "gsw = ee.Image('JRC/GSW1_0/GlobalSurfaceWater').select('occurrence')"
   ]
  },
  {
   "cell_type": "markdown",
   "metadata": {},
   "source": [
    "We'll also need some visualization parameters: "
   ]
  },
  {
   "cell_type": "code",
   "execution_count": 2,
   "metadata": {},
   "outputs": [],
   "source": [
    "viz = {\n",
    "    'bands': ee.List([ee.String(\"red\"), ee.String(\"green\"), ee.String(\"blue\")]),\n",
    "    'min': 0, \n",
    "    'max': 3000, \n",
    "    'gamma': 2.0\n",
    "}\n",
    "\n",
    "blueViz = {\n",
    "    'bands': ['blue'],\n",
    "    'min': 0, \n",
    "    'max': 3000,\n",
    "    'palette': ['lightblue', 'darkblue']\n",
    "}\n",
    "\n",
    "irViz = {\n",
    "  'bands': ['swir1'], \n",
    "  'min': 0, \n",
    "  'max': 3000, \n",
    "  'gamma': 1.4\n",
    "}\n",
    "\n",
    "fadeViz = {\n",
    "  'bands': [\"red\", \"green\", \"blue\"],\n",
    "  'min': 0, \n",
    "  'max': 3000,\n",
    "  'gamma': 1.4,\n",
    "  'opacity': 0.2\n",
    "}\n"
   ]
  },
  {
   "cell_type": "markdown",
   "metadata": {},
   "source": [
    "We're going to need to define some functions necessary for visualization as well. "
   ]
  },
  {
   "cell_type": "code",
   "execution_count": 3,
   "metadata": {},
   "outputs": [],
   "source": [
    "def vizColor(img):\n",
    "    return img.visualize(**viz).copyProperties(img, img.propertyNames())\n",
    "def vizFaded(img):\n",
    "    return img.visualize(**fadeViz).copyProperties(img, img.propertyNames())\n",
    "def vizIr(img):\n",
    "    return img.visualize(**irViz).copyProperties(img, img.propertyNames())\n",
    "def waterViz(img):\n",
    "    return img.visualize(**blueViz).copyProperties(img, img.propertyNames())\n",
    "\n",
    "def blendGeom(geom):\n",
    "    def main(img):\n",
    "        return img.blend(geom).copyProperties(img, img.propertyNames())\n",
    "    return main\n",
    "\n",
    "def blendWaterBackground(tovis, geom):\n",
    "    def main(img):\n",
    "        ID = img.get(\"LANDSAT_ID\")\n",
    "        overlay = (ee.Image(tovis.filterMetadata(\"LANDSAT_ID\", \"equals\", ID)\n",
    "                            .first()))\n",
    "        return img.blend(overlay).copyProperties(img, img.propertyNames())\n",
    "    return main\n"
   ]
  },
  {
   "cell_type": "markdown",
   "metadata": {},
   "source": [
    "Lastly, we'll set up the parsing variables for the end conditions in the loop: "
   ]
  },
  {
   "cell_type": "code",
   "execution_count": 4,
   "metadata": {},
   "outputs": [],
   "source": [
    "end = 20\n",
    "offset = 1000"
   ]
  },
  {
   "cell_type": "markdown",
   "metadata": {},
   "source": [
    "Now to set up the main loop and print the objects for comparing to the Javascript version: "
   ]
  },
  {
   "cell_type": "code",
   "execution_count": 5,
   "metadata": {},
   "outputs": [
    {
     "name": "stdout",
     "output_type": "stream",
     "text": [
      "50000200171540\n",
      "https://earthengine.googleapis.com/v1alpha/projects/earthengine-legacy/filmstripThumbnails/8b0bc724cd67bb4565f97d3be698bcfe-27e8fb29f35abd25ee2df02cde0dee8a:getPixels\n",
      "5000900047103\n",
      "https://earthengine.googleapis.com/v1alpha/projects/earthengine-legacy/filmstripThumbnails/5e89328fef3b6cdb2288d5635610734b-374ff6d0a83833efd9a3ebf98793231d:getPixels\n",
      "20000500201612\n",
      "https://earthengine.googleapis.com/v1alpha/projects/earthengine-legacy/filmstripThumbnails/fb15804fd26b3e2b0e82a6bba32a3304-dc80e20cb635c29edc0a21bcf32ab785:getPixels\n",
      "65000300115334\n",
      "https://earthengine.googleapis.com/v1alpha/projects/earthengine-legacy/filmstripThumbnails/e9013fad78e609074b20feee316a9973-e9a8f97e587d1c7f7545146ed11479d8:getPixels\n",
      "55001200131526\n",
      "https://earthengine.googleapis.com/v1alpha/projects/earthengine-legacy/filmstripThumbnails/472af88c412ffe3bad71958c051dc979-8d7d05dbb82ec1f4db20e5e9d1d4901e:getPixels\n",
      "24000300092727\n",
      "https://earthengine.googleapis.com/v1alpha/projects/earthengine-legacy/filmstripThumbnails/a9a7d352d8097c767fcea340f78da5ff-2d4e684ecc0179fa5274292f709703dd:getPixels\n",
      "65000300117236\n",
      "https://earthengine.googleapis.com/v1alpha/projects/earthengine-legacy/filmstripThumbnails/ac759783c92d69c2eac533b3e53923f1-99a1c0133b97b536d68263c0a20a8314:getPixels\n",
      "10000900105461\n",
      "https://earthengine.googleapis.com/v1alpha/projects/earthengine-legacy/filmstripThumbnails/2bb9ef598c279efb8bf7baef95020f09-e642fab505cfaed3a40eb78b85a91db5:getPixels\n",
      "22001400053111\n",
      "https://earthengine.googleapis.com/v1alpha/projects/earthengine-legacy/filmstripThumbnails/06d60724655dccab2b01425cfa8cd451-febdcceb276af9012e1ce7b6eb7e0fab:getPixels\n",
      "65000300136207\n",
      "https://earthengine.googleapis.com/v1alpha/projects/earthengine-legacy/filmstripThumbnails/f884e67fcf458c944077e2e8afe6c64c-9c0f2ad21599d97b2bb40eff4b28a915:getPixels\n",
      "22001200030670\n",
      "https://earthengine.googleapis.com/v1alpha/projects/earthengine-legacy/filmstripThumbnails/bf8580e8f99b99e01a83a5b6461cd045-4c7acfc99a0eeb49d86245f22f964de4:getPixels\n",
      "40000200070565\n",
      "https://earthengine.googleapis.com/v1alpha/projects/earthengine-legacy/filmstripThumbnails/24c7cf5a4719f7df44a22c0a8616529c-6f463d9ccc501b937104579ea4550ffc:getPixels\n",
      "30000700166293\n",
      "https://earthengine.googleapis.com/v1alpha/projects/earthengine-legacy/filmstripThumbnails/2f9aeeb34e80c5a5e11b5573320811b6-bcc5aa4ef81a21c5297020eec1b65a46:getPixels\n",
      "65000300136698\n",
      "https://earthengine.googleapis.com/v1alpha/projects/earthengine-legacy/filmstripThumbnails/915ce6286ad7820826b4160cc0b558bf-9e15c83c5893fe6faad047d3deb063e0:getPixels\n",
      "55000100990961\n",
      "https://earthengine.googleapis.com/v1alpha/projects/earthengine-legacy/filmstripThumbnails/31ddfb35326ef1d32324904e632bb6e9-558df806e4a23a2b575e8b06f4887ee7:getPixels\n",
      "23002600199770\n",
      "https://earthengine.googleapis.com/v1alpha/projects/earthengine-legacy/filmstripThumbnails/5897af647c5d09f8f506fe4091c74710-d7ff7328f38db8b91cb22e8392ca54ef:getPixels\n",
      "65000300118313\n",
      "https://earthengine.googleapis.com/v1alpha/projects/earthengine-legacy/filmstripThumbnails/20cb26e4b8eead82c5bbca536d0888b8-7851da2208997a6fb98f9057f9ce371a:getPixels\n",
      "23000400063134\n",
      "https://earthengine.googleapis.com/v1alpha/projects/earthengine-legacy/filmstripThumbnails/4910f430b8390f558599617b22bf1613-92b1d40d29937deb362d4a6794714285:getPixels\n",
      "15000800138511\n",
      "https://earthengine.googleapis.com/v1alpha/projects/earthengine-legacy/filmstripThumbnails/d5f49e3415e83fec4ed09e221c9bb068-a423a249f4bb504d37f50678422d39db:getPixels\n",
      "10000300227444\n",
      "https://earthengine.googleapis.com/v1alpha/projects/earthengine-legacy/filmstripThumbnails/2c89c4568dfd6ef268a4ed7886bface0-d1b77c915992490ad46733bb8f69a8bc:getPixels\n"
     ]
    }
   ],
   "source": [
    "for i in range(0, end):\n",
    "    feat = ee.Feature(nhd.toList(end+1, offset).get(i))\n",
    "    geom = feat.geometry()\n",
    "    imgs = ic.getImageCollection(feat, False)\n",
    "    imgs = (imgs.sort(\"system:time_start\")\n",
    "            .filterMetadata(\"SATELLITE\", \"equals\", \"LANDSAT_5\"))\n",
    "    imgs = ee.ImageCollection(imgs.toList(9))\n",
    "    \n",
    "    befIsol = ee.ImageCollection(mc.mergeByChunk(imgs))\n",
    "    \n",
    "    aftIsolMNDWI = (imgs.map(sub.noClouds)\n",
    "                    .map(sub.waterIsolationMNDWI(gsw, geom)))\n",
    "    aftIsolMNDWI = ee.ImageCollection(mc.mergeByChunk(aftIsolMNDWI))\n",
    "    \n",
    "    aftIsolSWIR = (imgs.map(sub.noClouds)\n",
    "                   .map(sub.waterIsolationSWIR(gsw, geom)))\n",
    "    aftIsolSWIR = ee.ImageCollection(mc.mergeByChunk(aftIsolSWIR))\n",
    "    \n",
    "    template = ee.Image().byte()\n",
    "    box = geom.bounds()\n",
    "    outline = (template.paint(ee.FeatureCollection(feat), \"red\", 2)\n",
    "               .visualize(**{\"palette\": \"red\"}))\n",
    "    \n",
    "    background = befIsol.map(vizFaded)\n",
    "    backBlend = background.map(blendGeom(outline))\n",
    "    \n",
    "    befColorImgs = befIsol.map(vizColor)\n",
    "    befBlendImgs = befColorImgs.map(blendGeom(outline))\n",
    "    \n",
    "    irColorImgs = befIsol.map(vizIr)\n",
    "    irBlendImgs = irColorImgs.map(blendGeom(outline))\n",
    "    \n",
    "    fadeColorImgsMNDWI = aftIsolMNDWI.map(vizColor)\n",
    "    fadeBlendImgsMNDWI = backBlend.map(blendWaterBackground(fadeColorImgsMNDWI, geom))\n",
    "    \n",
    "    fadeColorImgsSWIR = aftIsolSWIR.map(vizColor)\n",
    "    fadeBlendImgsSWIR = backBlend.map(blendWaterBackground(fadeColorImgsSWIR, geom))\n",
    "    \n",
    "    aftColorImgsMNDWI = aftIsolMNDWI.map(waterViz)\n",
    "    aftBlendImgsMNDWI = backBlend.map(blendWaterBackground(aftColorImgsMNDWI, geom))\n",
    "    aftBlendImgsMNDWI = aftBlendImgsMNDWI.map(blendGeom(outline))\n",
    "    \n",
    "    aftColorImgsSWIR = aftIsolSWIR.map(waterViz)\n",
    "    aftBlendImgsSWIR = backBlend.map(blendWaterBackground(aftColorImgsSWIR, geom))\n",
    "    aftBlendImgsSWIR = aftBlendImgsSWIR.map(blendGeom(outline))\n",
    "    \n",
    "    blendImgs = (befBlendImgs.merge(irBlendImgs)\n",
    "                 .merge(fadeBlendImgsSWIR)\n",
    "                 .merge(aftBlendImgsSWIR)\n",
    "                 .merge(fadeBlendImgsMNDWI)\n",
    "                 .merge(aftBlendImgsMNDWI)\n",
    "                 .sort(\"system:time_start\")\n",
    "                )\n",
    "    \n",
    "    filmArgs = {\n",
    "        'region': box, \n",
    "        'dimensions': 700, \n",
    "\n",
    "    }\n",
    "    print(feat.get(\"NHDPlID\").getInfo())\n",
    "    print(blendImgs.getFilmstripThumbURL(filmArgs))\n"
   ]
  },
  {
   "cell_type": "code",
   "execution_count": null,
   "metadata": {},
   "outputs": [
    {
     "name": "stdout",
     "output_type": "stream",
     "text": [
      "50000200171540\n",
      "https://earthengine.googleapis.com/v1alpha/projects/earthengine-legacy/filmstripThumbnails/958a2719e875d48d1e3aef8a71e38d21-f3509c6dad98199a5c54c11ab49e134e:getPixels\n",
      "5000900047103\n",
      "https://earthengine.googleapis.com/v1alpha/projects/earthengine-legacy/filmstripThumbnails/dfb39c0d920d25d78b4c1315b90135e1-5e763709c16d91df178aa453fbf72dd9:getPixels\n",
      "20000500201612\n",
      "https://earthengine.googleapis.com/v1alpha/projects/earthengine-legacy/filmstripThumbnails/b7e87211b980d81a53d1f343c9728a83-1a7571b3f61af3a8622d7b5d5ef997b4:getPixels\n",
      "65000300115334\n",
      "https://earthengine.googleapis.com/v1alpha/projects/earthengine-legacy/filmstripThumbnails/045c3e48d308ec17f0a33c494cb8b533-55721fd8db024088d0c1183a1af22fe4:getPixels\n"
     ]
    }
   ],
   "source": [
    "for i in range(0, end):\n",
    "    feat = ee.Feature(nhd.toList(end+1, offset).get(i))\n",
    "    geom = feat.geometry()\n",
    "    imgs = ic.getImageCollection(feat, False)\n",
    "    befChunk5 = (imgs.sort(\"system:time_start\")\n",
    "                 .filterMetadata(\"Chunk\", \"equals\", 16)\n",
    "                 .filterMetadata(\"Year\", \"equals\", 1990)\n",
    "                 .filterMetadata(\"SATELLITE\", \"equals\", \"LANDSAT_5\"))\n",
    "    befChunk7 = (imgs.sort(\"system:time_start\")\n",
    "                 .filterMetadata(\"Chunk\", \"equals\", 16)\n",
    "                 .filterMetadata(\"Year\", \"equals\", 2000)\n",
    "                 .filterMetadata(\"SATELLITE\", \"equals\", \"LANDSAT_7\"))\n",
    "    befChunk8 = (imgs.sort(\"system:time_start\")\n",
    "                 .filterMetadata(\"Chunk\", \"equals\", 16)\n",
    "                 .filterMetadata(\"Year\", \"equals\", 2015)\n",
    "                 .filterMetadata(\"SATELLITE\", \"equals\", \"LANDSAT_8\"))\n",
    "   \n",
    "    aftChunk5 = ee.ImageCollection(mc.mergeByChunk(befChunk5))\n",
    "    aftChunk7 = ee.ImageCollection(mc.mergeByChunk(befChunk7))\n",
    "    aftChunk8 = ee.ImageCollection(mc.mergeByChunk(befChunk8))\n",
    "    \n",
    "    template = ee.Image().byte()\n",
    "    box = geom.bounds()\n",
    "    outline = (template.paint(ee.FeatureCollection(feat), \"red\", 2)\n",
    "               .visualize(**{\"palette\": \"red\"}))\n",
    "    \n",
    "    bef5 = befChunk5.map(vizColor)\n",
    "    aft5 = bef5.map(blendGeom(outline))\n",
    "    bef7 = befChunk7.map(vizColor)\n",
    "    aft7 = bef7.map(blendGeom(outline))\n",
    "    bef8 = befChunk8.map(vizColor)\n",
    "    aft8 = bef8.map(blendGeom(outline))\n",
    "    \n",
    "    \n",
    "    blendImgs = (bef5.merge(aft5)\n",
    "                 .merge(bef7)\n",
    "                 .merge(aft7)\n",
    "                 .merge(bef8)\n",
    "                 .merge(aft8)\n",
    "                 .sort(\"system:time_start\")\n",
    "                )\n",
    "    \n",
    "    filmArgs = {\n",
    "        'region': box, \n",
    "        'dimensions': 700, \n",
    "\n",
    "    }\n",
    "    print(feat.get(\"NHDPlID\").getInfo())\n",
    "    print(blendImgs.getFilmstripThumbURL(filmArgs))"
   ]
  }
 ],
 "metadata": {
  "kernelspec": {
   "display_name": "Python 3",
   "language": "python",
   "name": "python3"
  },
  "language_info": {
   "codemirror_mode": {
    "name": "ipython",
    "version": 3
   },
   "file_extension": ".py",
   "mimetype": "text/x-python",
   "name": "python",
   "nbconvert_exporter": "python",
   "pygments_lexer": "ipython3",
   "version": "3.8.5"
  }
 },
 "nbformat": 4,
 "nbformat_minor": 4
}
