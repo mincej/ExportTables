{
 "cells": [
  {
   "cell_type": "markdown",
   "metadata": {},
   "source": [
    "## Transfer Validation\n",
    "\n",
    "This notebook will be used to validate the transfer of the **Javascript Google Earth Engine API** code to the new **Python API version** and subsequent checking. This is necessary due to the need of IPython and it's synchronicity with Jupyter to visualize the maps generated in Google Earth Engine. This is needed to validate every step and function that is added. "
   ]
  },
  {
   "cell_type": "markdown",
   "metadata": {},
   "source": [
    "First, let's load in the needed libraries and initialize our Google Earth Engine session: "
   ]
  },
  {
   "cell_type": "code",
   "execution_count": 1,
   "metadata": {},
   "outputs": [],
   "source": [
    "import ee\n",
    "import folium\n",
    "import IPython.display as ip\n",
    "import geemap \n",
    "import GetImageCollection as ic\n",
    "import MergeChunk as mc\n",
    "import Subroutines as sub\n",
    "import CloudCodes as cc\n",
    "ee.Initialize()"
   ]
  },
  {
   "cell_type": "markdown",
   "metadata": {},
   "source": [
    "Now, lets load in our assets and get the physical properties of it for usage in our map. "
   ]
  },
  {
   "cell_type": "code",
   "execution_count": 2,
   "metadata": {},
   "outputs": [],
   "source": [
    "nhd = ee.FeatureCollection('users/mincej20/NHD_Filtered_50')\n",
    "feat = ee.Feature(nhd.filterMetadata(\"GNIS_ID\", \"equals\", \"00970163\").first())\n",
    "\n",
    "centroid = ee.Geometry(feat.geometry().centroid())\n",
    "long = centroid.coordinates().get(0).getInfo()\n",
    "lat = centroid.coordinates().get(1).getInfo()"
   ]
  },
  {
   "cell_type": "markdown",
   "metadata": {},
   "source": [
    "We have to make sure that it works, so we'll verify the feature and centroid: "
   ]
  },
  {
   "cell_type": "code",
   "execution_count": 3,
   "metadata": {},
   "outputs": [
    {
     "name": "stdout",
     "output_type": "stream",
     "text": [
      "00970163\n",
      "Lake George\n",
      "{'type': 'Point', 'coordinates': [-73.57973412405578, 43.601748078270504]}\n"
     ]
    }
   ],
   "source": [
    "print(feat.get(\"GNIS_ID\").getInfo())\n",
    "print(feat.get(\"GNIS_Nm\").getInfo())\n",
    "print(centroid.getInfo())"
   ]
  },
  {
   "cell_type": "markdown",
   "metadata": {},
   "source": [
    "Looks like our **GEE** is properly connected and we can access our assets, etc. \n",
    "Now, let's see about testing the GetImageCollection scripts."
   ]
  },
  {
   "cell_type": "code",
   "execution_count": 4,
   "metadata": {},
   "outputs": [
    {
     "ename": "NameError",
     "evalue": "name 'img' is not defined",
     "output_type": "error",
     "traceback": [
      "\u001b[1;31m---------------------------------------------------------------------------\u001b[0m",
      "\u001b[1;31mNameError\u001b[0m                                 Traceback (most recent call last)",
      "\u001b[1;32m<ipython-input-4-8f3937cd77d2>\u001b[0m in \u001b[0;36m<module>\u001b[1;34m\u001b[0m\n\u001b[0;32m      1\u001b[0m \u001b[0mimgs\u001b[0m \u001b[1;33m=\u001b[0m \u001b[0mic\u001b[0m\u001b[1;33m.\u001b[0m\u001b[0mgetImageCollection\u001b[0m\u001b[1;33m(\u001b[0m\u001b[0mfeat\u001b[0m\u001b[1;33m,\u001b[0m \u001b[1;32mTrue\u001b[0m\u001b[1;33m)\u001b[0m\u001b[1;33m\u001b[0m\u001b[1;33m\u001b[0m\u001b[0m\n\u001b[0;32m      2\u001b[0m \u001b[0mimgs\u001b[0m \u001b[1;33m=\u001b[0m \u001b[0mimgs\u001b[0m\u001b[1;33m.\u001b[0m\u001b[0msort\u001b[0m\u001b[1;33m(\u001b[0m\u001b[1;34m\"system:time_start\"\u001b[0m\u001b[1;33m)\u001b[0m\u001b[1;33m\u001b[0m\u001b[1;33m\u001b[0m\u001b[0m\n\u001b[1;32m----> 3\u001b[1;33m \u001b[0mprint\u001b[0m\u001b[1;33m(\u001b[0m\u001b[0mimg\u001b[0m\u001b[1;33m.\u001b[0m\u001b[0mfirst\u001b[0m\u001b[1;33m(\u001b[0m\u001b[1;33m)\u001b[0m\u001b[1;33m.\u001b[0m\u001b[0mgetInfo\u001b[0m\u001b[1;33m(\u001b[0m\u001b[1;33m)\u001b[0m\u001b[1;33m)\u001b[0m\u001b[1;33m\u001b[0m\u001b[1;33m\u001b[0m\u001b[0m\n\u001b[0m",
      "\u001b[1;31mNameError\u001b[0m: name 'img' is not defined"
     ]
    }
   ],
   "source": [
    "imgs = ic.getImageCollection(feat, True)\n",
    "imgs = imgs.sort(\"system:time_start\")\n",
    "print(imgs.first().getInfo())"
   ]
  },
  {
   "cell_type": "markdown",
   "metadata": {},
   "source": [
    "Let's set up the map to check how the images were loaded, as well as the visual parameters. "
   ]
  },
  {
   "cell_type": "code",
   "execution_count": null,
   "metadata": {
    "scrolled": false
   },
   "outputs": [],
   "source": [
    "viz = {\n",
    "    'bands': [\"RED\", \"GREEN\", \"BLUE\"],\n",
    "    'min': 0, \n",
    "    'max': 3000,\n",
    "    'gamma': 1.4\n",
    "}\n",
    "\n",
    "Map = geemap.Map(location=[lat, long], zoom_start=10)\n",
    "Map.addLayer(imgs.first(), viz, \"Test\", True)\n",
    "Map.addLayer(feat.geometry(), {}, \"Feature\", True)\n",
    "Map.setControlVisibility(layerControl=True, fullscreenControl=True, latLngPopup=False)\n",
    "Map\n"
   ]
  },
  {
   "cell_type": "markdown",
   "metadata": {},
   "source": [
    "We should now try out the MergeCentroid script to merge the centroids. "
   ]
  },
  {
   "cell_type": "code",
   "execution_count": null,
   "metadata": {
    "scrolled": true
   },
   "outputs": [],
   "source": [
    "merged = mc.mergeByChunk(imgs)"
   ]
  },
  {
   "cell_type": "markdown",
   "metadata": {},
   "source": [
    "Since the size is good, let's visualize one of the merged images to make sure that it is working appropriately. "
   ]
  },
  {
   "cell_type": "code",
   "execution_count": null,
   "metadata": {},
   "outputs": [],
   "source": [
    "Map.addLayer(merged.first(), viz, \"Merged\", True)\n",
    "Map.addLayer(feat.geometry(), {}, \"Feature\", True)\n",
    "Map.setControlVisibility(layerControl=True, fullscreenControl=True, latLngPopup=False)\n",
    "Map"
   ]
  },
  {
   "cell_type": "markdown",
   "metadata": {},
   "source": [
    "So it seems to have worked and matches up with the incomplete image from the original map! Now, we should test out the Subroutines that have been defined, like the cloud codes and water isolation methods. "
   ]
  },
  {
   "cell_type": "code",
   "execution_count": null,
   "metadata": {},
   "outputs": [],
   "source": [
    "img = merged.first()\n",
    "img = sub.noClouds(img)\n",
    "Map.addLayer(img, viz, \"NoCloud\", True)\n",
    "Map"
   ]
  },
  {
   "cell_type": "markdown",
   "metadata": {},
   "source": [
    "It worked! Time to test the water isolation methods: "
   ]
  },
  {
   "cell_type": "code",
   "execution_count": null,
   "metadata": {},
   "outputs": [],
   "source": [
    "gsw = ee.Image('JRC/GSW1_0/GlobalSurfaceWater').select(\"occurrence\")\n",
    "geom = feat.geometry()\n",
    "img = ee.ImageCollection(img).map(sub.waterIsolationSWIR(gsw, geom))\n",
    "Map.addLayer(img, viz, \"Water\", True)\n",
    "Map.setControlVisibility(layerControl=True, fullscreenControl=True, latLngPopup=False)\n",
    "Map"
   ]
  }
 ],
 "metadata": {
  "kernelspec": {
   "display_name": "Python 3",
   "language": "python",
   "name": "python3"
  },
  "language_info": {
   "codemirror_mode": {
    "name": "ipython",
    "version": 3
   },
   "file_extension": ".py",
   "mimetype": "text/x-python",
   "name": "python",
   "nbconvert_exporter": "python",
   "pygments_lexer": "ipython3",
   "version": "3.7.7"
  }
 },
 "nbformat": 4,
 "nbformat_minor": 4
}
